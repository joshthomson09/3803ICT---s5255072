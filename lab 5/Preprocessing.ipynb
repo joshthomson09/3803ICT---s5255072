{
 "cells": [
  {
   "cell_type": "markdown",
   "metadata": {},
   "source": [
    "# 01-Preprocessing"
   ]
  },
  {
   "cell_type": "markdown",
   "metadata": {},
   "source": [
    "The first NLP exercise is about preprocessing.\n",
    "\n",
    "You will practice preprocessing using NLTK on raw data. \n",
    "This is the first step in most of the NLP projects, so you have to master it."
   ]
  },
  {
   "cell_type": "markdown",
   "metadata": {},
   "source": [
    "We will play with the *coldplay.csv* dataset, containing all the songs and lyrics of Coldplay."
   ]
  },
  {
   "cell_type": "markdown",
   "metadata": {},
   "source": [
    "As you know, the first step is to import some libraries. So import *nltk* as well as all the libraries you will need."
   ]
  },
  {
   "cell_type": "code",
   "execution_count": 13,
   "metadata": {
    "tags": []
   },
   "outputs": [
    {
     "name": "stderr",
     "output_type": "stream",
     "text": [
      "[nltk_data] Downloading package punkt to\n",
      "[nltk_data]     /Users/joshuathomson/nltk_data...\n",
      "[nltk_data]   Unzipping tokenizers/punkt.zip.\n",
      "[nltk_data] Downloading package stopwords to\n",
      "[nltk_data]     /Users/joshuathomson/nltk_data...\n",
      "[nltk_data]   Unzipping corpora/stopwords.zip.\n",
      "[nltk_data] Downloading package wordnet to\n",
      "[nltk_data]     /Users/joshuathomson/nltk_data...\n",
      "[nltk_data] Downloading package averaged_perceptron_tagger to\n",
      "[nltk_data]     /Users/joshuathomson/nltk_data...\n",
      "[nltk_data]   Unzipping taggers/averaged_perceptron_tagger.zip.\n"
     ]
    }
   ],
   "source": [
    "# Import NLTK and all the needed libraries\n",
    "import nltk\n",
    "import ssl\n",
    "\n",
    "ssl._create_default_https_context = ssl._create_unverified_context\n",
    "\n",
    "nltk.download('punkt') #Run this line one time to get the resource\n",
    "nltk.download('stopwords') #Run this line one time to get the resource\n",
    "nltk.download('wordnet') #Run this line one time to get the resource\n",
    "nltk.download('averaged_perceptron_tagger') #Run this line one time to get the resource\n",
    "import numpy as np\n",
    "import pandas as pd"
   ]
  },
  {
   "cell_type": "markdown",
   "metadata": {},
   "source": [
    "Load now the dataset using pandas."
   ]
  },
  {
   "cell_type": "code",
   "execution_count": 9,
   "metadata": {},
   "outputs": [
    {
     "data": {
      "text/html": [
       "<div>\n",
       "<style scoped>\n",
       "    .dataframe tbody tr th:only-of-type {\n",
       "        vertical-align: middle;\n",
       "    }\n",
       "\n",
       "    .dataframe tbody tr th {\n",
       "        vertical-align: top;\n",
       "    }\n",
       "\n",
       "    .dataframe thead th {\n",
       "        text-align: right;\n",
       "    }\n",
       "</style>\n",
       "<table border=\"1\" class=\"dataframe\">\n",
       "  <thead>\n",
       "    <tr style=\"text-align: right;\">\n",
       "      <th></th>\n",
       "      <th>Artist</th>\n",
       "      <th>Song</th>\n",
       "      <th>Link</th>\n",
       "      <th>Lyrics</th>\n",
       "    </tr>\n",
       "  </thead>\n",
       "  <tbody>\n",
       "    <tr>\n",
       "      <th>0</th>\n",
       "      <td>Coldplay</td>\n",
       "      <td>Another's Arms</td>\n",
       "      <td>/c/coldplay/anothers+arms_21079526.html</td>\n",
       "      <td>Late night watching tv  \\nUsed to be you here ...</td>\n",
       "    </tr>\n",
       "    <tr>\n",
       "      <th>1</th>\n",
       "      <td>Coldplay</td>\n",
       "      <td>Bigger Stronger</td>\n",
       "      <td>/c/coldplay/bigger+stronger_20032648.html</td>\n",
       "      <td>I want to be bigger stronger drive a faster ca...</td>\n",
       "    </tr>\n",
       "    <tr>\n",
       "      <th>2</th>\n",
       "      <td>Coldplay</td>\n",
       "      <td>Daylight</td>\n",
       "      <td>/c/coldplay/daylight_20032625.html</td>\n",
       "      <td>To my surprise, and my delight  \\nI saw sunris...</td>\n",
       "    </tr>\n",
       "    <tr>\n",
       "      <th>3</th>\n",
       "      <td>Coldplay</td>\n",
       "      <td>Everglow</td>\n",
       "      <td>/c/coldplay/everglow_21104546.html</td>\n",
       "      <td>Oh, they say people come  \\nThey say people go...</td>\n",
       "    </tr>\n",
       "    <tr>\n",
       "      <th>4</th>\n",
       "      <td>Coldplay</td>\n",
       "      <td>Every Teardrop Is A Waterfall</td>\n",
       "      <td>/c/coldplay/every+teardrop+is+a+waterfall_2091...</td>\n",
       "      <td>I turn the music up, I got my records on  \\nI ...</td>\n",
       "    </tr>\n",
       "  </tbody>\n",
       "</table>\n",
       "</div>"
      ],
      "text/plain": [
       "     Artist                           Song  \\\n",
       "0  Coldplay                 Another's Arms   \n",
       "1  Coldplay                Bigger Stronger   \n",
       "2  Coldplay                       Daylight   \n",
       "3  Coldplay                       Everglow   \n",
       "4  Coldplay  Every Teardrop Is A Waterfall   \n",
       "\n",
       "                                                Link  \\\n",
       "0            /c/coldplay/anothers+arms_21079526.html   \n",
       "1          /c/coldplay/bigger+stronger_20032648.html   \n",
       "2                 /c/coldplay/daylight_20032625.html   \n",
       "3                 /c/coldplay/everglow_21104546.html   \n",
       "4  /c/coldplay/every+teardrop+is+a+waterfall_2091...   \n",
       "\n",
       "                                              Lyrics  \n",
       "0  Late night watching tv  \\nUsed to be you here ...  \n",
       "1  I want to be bigger stronger drive a faster ca...  \n",
       "2  To my surprise, and my delight  \\nI saw sunris...  \n",
       "3  Oh, they say people come  \\nThey say people go...  \n",
       "4  I turn the music up, I got my records on  \\nI ...  "
      ]
     },
     "execution_count": 9,
     "metadata": {},
     "output_type": "execute_result"
    }
   ],
   "source": [
    "# TODO: Load the dataset in coldplay.csv\n",
    "# Load the dataset\n",
    "data = pd.read_csv('coldplay.csv')\n",
    "\n",
    "# Print the first 5 rows of the dataset to check if it has been loaded correctly\n",
    "print(data.head())\n"
   ]
  },
  {
   "cell_type": "markdown",
   "metadata": {},
   "source": [
    "Now, check the dataset, play with it a bit: what are the columns? How many lines? Is there missing data?..."
   ]
  },
  {
   "cell_type": "code",
   "execution_count": 5,
   "metadata": {
    "tags": []
   },
   "outputs": [
    {
     "name": "stdout",
     "output_type": "stream",
     "text": [
      "<class 'pandas.core.frame.DataFrame'>\n",
      "RangeIndex: 120 entries, 0 to 119\n",
      "Data columns (total 4 columns):\n",
      " #   Column  Non-Null Count  Dtype \n",
      "---  ------  --------------  ----- \n",
      " 0   Artist  120 non-null    object\n",
      " 1   Song    120 non-null    object\n",
      " 2   Link    120 non-null    object\n",
      " 3   Lyrics  120 non-null    object\n",
      "dtypes: object(4)\n",
      "memory usage: 3.9+ KB\n",
      "None\n"
     ]
    }
   ],
   "source": [
    "# TODO: Explore the data\n",
    "#import pandas as pd\n",
    "#data = pd.read_csv('coldplay.csv')\n",
    "print(data.info())\n"
   ]
  },
  {
   "cell_type": "markdown",
   "metadata": {},
   "source": [
    "Now select the song 'Every Teardrop Is A Waterfall' and save the Lyrics text into a variable. Print the output of this variable."
   ]
  },
  {
   "cell_type": "code",
   "execution_count": 8,
   "metadata": {
    "tags": []
   },
   "outputs": [
    {
     "name": "stdout",
     "output_type": "stream",
     "text": [
      "     Artist                           Song  \\\n",
      "4  Coldplay  Every Teardrop Is A Waterfall   \n",
      "\n",
      "                                                Link  \\\n",
      "4  /c/coldplay/every+teardrop+is+a+waterfall_2091...   \n",
      "\n",
      "                                              Lyrics  \n",
      "4  I turn the music up, I got my records on  \\nI ...  \n"
     ]
    }
   ],
   "source": [
    "# TODO: Select the song 'Every Teardrop Is A Waterfall'\n",
    "# Load the dataset\n",
    "data = pd.read_csv('coldplay.csv')\n",
    "\n",
    "# Select the row with the song 'Every Teardrop Is A Waterfall'\n",
    "song = data.loc[data['Song'] == 'Every Teardrop Is A Waterfall']\n",
    "\n",
    "# Print the selected song\n",
    "print(song)"
   ]
  },
  {
   "cell_type": "markdown",
   "metadata": {},
   "source": [
    "As you can see, there is some preprocessing needed here. So let's do it! What is usually the first step?"
   ]
  },
  {
   "cell_type": "markdown",
   "metadata": {},
   "source": [
    "Tokenization, yes. So do tokenization on the lyrics of Every Teardrop Is A Waterfall.\n",
    "\n",
    "So you may have to import the needed library from NLTK if you did not yet.\n",
    "\n",
    "Be careful, the output you have from your pandas dataframe may not have the right type, so manipulate it wisely to get a string."
   ]
  },
  {
   "cell_type": "code",
   "execution_count": 14,
   "metadata": {
    "tags": []
   },
   "outputs": [
    {
     "name": "stdout",
     "output_type": "stream",
     "text": [
      "['I', 'turn', 'the', 'music', 'up', ',', 'I', 'got', 'my', 'records', 'on', 'I', 'shut', 'the', 'world', 'outside', 'until', 'the', 'lights', 'come', 'on', 'Maybe', 'the', 'streets', 'alight', ',', 'maybe', 'the', 'trees', 'are', 'gone', 'I', 'feel', 'my', 'heart', 'start', 'beating', 'to', 'my', 'favourite', 'song', 'And', 'all', 'the', 'kids', 'they', 'dance', ',', 'all', 'the', 'kids', 'all', 'night', 'Until', 'Monday', 'morning', 'feels', 'another', 'life', 'I', 'turn', 'the', 'music', 'up', 'I', \"'m\", 'on', 'a', 'roll', 'this', 'time', 'And', 'heaven', 'is', 'in', 'sight', 'I', 'turn', 'the', 'music', 'up', ',', 'I', 'got', 'my', 'records', 'on', 'From', 'underneath', 'the', 'rubble', 'sing', 'a', 'rebel', 'song', 'Do', \"n't\", 'want', 'to', 'see', 'another', 'generation', 'drop', 'I', \"'d\", 'rather', 'be', 'a', 'comma', 'than', 'a', 'full', 'stop', 'Maybe', 'I', \"'m\", 'in', 'the', 'black', ',', 'maybe', 'I', \"'m\", 'on', 'my', 'knees', 'Maybe', 'I', \"'m\", 'in', 'the', 'gap', 'between', 'the', 'two', 'trapezes', 'But', 'my', 'heart', 'is', 'beating', 'and', 'my', 'pulses', 'start', 'Cathedrals', 'in', 'my', 'heart', 'As', 'we', 'saw', 'oh', 'this', 'light', 'I', 'swear', 'you', ',', 'emerge', 'blinking', 'into', 'To', 'tell', 'me', 'it', \"'s\", 'alright', 'As', 'we', 'soar', 'walls', ',', 'every', 'siren', 'is', 'a', 'symphony', 'And', 'every', 'tear', \"'s\", 'a', 'waterfall', 'Is', 'a', 'waterfall', 'Oh', 'Is', 'a', 'waterfall', 'Oh', 'oh', 'oh', 'Is', 'a', 'is', 'a', 'waterfall', 'Every', 'tear', 'Is', 'a', 'waterfall', 'Oh', 'oh', 'oh', 'So', 'you', 'can', 'hurt', ',', 'hurt', 'me', 'bad', 'But', 'still', 'I', \"'ll\", 'raise', 'the', 'flag', 'Oh', 'It', 'was', 'a', 'wa', 'wa', 'wa', 'wa', 'wa-aterfall', 'A', 'wa', 'wa', 'wa', 'wa', 'wa-aterfall', 'Every', 'tear', 'Every', 'tear', 'Every', 'teardrop', 'is', 'a', 'waterfall', 'Every', 'tear', 'Every', 'tear', 'Every', 'teardrop', 'is', 'a', 'waterfall', 'Every', 'tear', 'Every', 'tear', 'Every', 'teardrop', 'is', 'a', 'waterfall']\n"
     ]
    },
    {
     "name": "stderr",
     "output_type": "stream",
     "text": [
      "[nltk_data] Downloading package punkt to\n",
      "[nltk_data]     /Users/joshuathomson/nltk_data...\n",
      "[nltk_data]   Package punkt is already up-to-date!\n"
     ]
    }
   ],
   "source": [
    "# TODO: Tokenize the lyrics of the song and save the tokens into a variable and print it\n",
    "import pandas as pd\n",
    "import nltk\n",
    "nltk.download('punkt')\n",
    "\n",
    "# Load the dataset\n",
    "data = pd.read_csv('coldplay.csv')\n",
    "\n",
    "# Select the row with the song 'Every Teardrop Is A Waterfall'\n",
    "song = data.loc[data['Song'] == 'Every Teardrop Is A Waterfall']\n",
    "\n",
    "# Tokenize the lyrics of the song\n",
    "lyrics = song['Lyrics'].iloc[0]   # Get the lyrics as a string\n",
    "tokens = nltk.word_tokenize(lyrics)   # Tokenize the lyrics\n",
    "\n",
    "# Print the tokens\n",
    "print(tokens)"
   ]
  },
  {
   "cell_type": "markdown",
   "metadata": {},
   "source": [
    "It begins to look good. But still, we have the punctuation to remove, so let's do this."
   ]
  },
  {
   "cell_type": "code",
   "execution_count": 13,
   "metadata": {},
   "outputs": [
    {
     "data": {
      "text/plain": [
       "['I',\n",
       " 'turn',\n",
       " 'the',\n",
       " 'music',\n",
       " 'up',\n",
       " 'I',\n",
       " 'got',\n",
       " 'my',\n",
       " 'records',\n",
       " 'on',\n",
       " 'I',\n",
       " 'shut',\n",
       " 'the',\n",
       " 'world',\n",
       " 'outside',\n",
       " 'until',\n",
       " 'the',\n",
       " 'lights',\n",
       " 'come',\n",
       " 'on',\n",
       " 'Maybe',\n",
       " 'the',\n",
       " 'streets',\n",
       " 'alight',\n",
       " 'maybe',\n",
       " 'the',\n",
       " 'trees',\n",
       " 'are',\n",
       " 'gone',\n",
       " 'I',\n",
       " 'feel',\n",
       " 'my',\n",
       " 'heart',\n",
       " 'start',\n",
       " 'beating',\n",
       " 'to',\n",
       " 'my',\n",
       " 'favourite',\n",
       " 'song',\n",
       " 'And',\n",
       " 'all',\n",
       " 'the',\n",
       " 'kids',\n",
       " 'they',\n",
       " 'dance',\n",
       " 'all',\n",
       " 'the',\n",
       " 'kids',\n",
       " 'all',\n",
       " 'night',\n",
       " 'Until',\n",
       " 'Monday',\n",
       " 'morning',\n",
       " 'feels',\n",
       " 'another',\n",
       " 'life',\n",
       " 'I',\n",
       " 'turn',\n",
       " 'the',\n",
       " 'music',\n",
       " 'up',\n",
       " 'I',\n",
       " 'on',\n",
       " 'a',\n",
       " 'roll',\n",
       " 'this',\n",
       " 'time',\n",
       " 'And',\n",
       " 'heaven',\n",
       " 'is',\n",
       " 'in',\n",
       " 'sight',\n",
       " 'I',\n",
       " 'turn',\n",
       " 'the',\n",
       " 'music',\n",
       " 'up',\n",
       " 'I',\n",
       " 'got',\n",
       " 'my',\n",
       " 'records',\n",
       " 'on',\n",
       " 'From',\n",
       " 'underneath',\n",
       " 'the',\n",
       " 'rubble',\n",
       " 'sing',\n",
       " 'a',\n",
       " 'rebel',\n",
       " 'song',\n",
       " 'Do',\n",
       " 'want',\n",
       " 'to',\n",
       " 'see',\n",
       " 'another',\n",
       " 'generation',\n",
       " 'drop',\n",
       " 'I',\n",
       " 'rather',\n",
       " 'be',\n",
       " 'a',\n",
       " 'comma',\n",
       " 'than',\n",
       " 'a',\n",
       " 'full',\n",
       " 'stop',\n",
       " 'Maybe',\n",
       " 'I',\n",
       " 'in',\n",
       " 'the',\n",
       " 'black',\n",
       " 'maybe',\n",
       " 'I',\n",
       " 'on',\n",
       " 'my',\n",
       " 'knees',\n",
       " 'Maybe',\n",
       " 'I',\n",
       " 'in',\n",
       " 'the',\n",
       " 'gap',\n",
       " 'between',\n",
       " 'the',\n",
       " 'two',\n",
       " 'trapezes',\n",
       " 'But',\n",
       " 'my',\n",
       " 'heart',\n",
       " 'is',\n",
       " 'beating',\n",
       " 'and',\n",
       " 'my',\n",
       " 'pulses',\n",
       " 'start',\n",
       " 'Cathedrals',\n",
       " 'in',\n",
       " 'my',\n",
       " 'heart',\n",
       " 'As',\n",
       " 'we',\n",
       " 'saw',\n",
       " 'oh',\n",
       " 'this',\n",
       " 'light',\n",
       " 'I',\n",
       " 'swear',\n",
       " 'you',\n",
       " 'emerge',\n",
       " 'blinking',\n",
       " 'into',\n",
       " 'To',\n",
       " 'tell',\n",
       " 'me',\n",
       " 'it',\n",
       " 'alright',\n",
       " 'As',\n",
       " 'we',\n",
       " 'soar',\n",
       " 'walls',\n",
       " 'every',\n",
       " 'siren',\n",
       " 'is',\n",
       " 'a',\n",
       " 'symphony',\n",
       " 'And',\n",
       " 'every',\n",
       " 'tear',\n",
       " 'a',\n",
       " 'waterfall',\n",
       " 'Is',\n",
       " 'a',\n",
       " 'waterfall',\n",
       " 'Oh',\n",
       " 'Is',\n",
       " 'a',\n",
       " 'waterfall',\n",
       " 'Oh',\n",
       " 'oh',\n",
       " 'oh',\n",
       " 'Is',\n",
       " 'a',\n",
       " 'is',\n",
       " 'a',\n",
       " 'waterfall',\n",
       " 'Every',\n",
       " 'tear',\n",
       " 'Is',\n",
       " 'a',\n",
       " 'waterfall',\n",
       " 'Oh',\n",
       " 'oh',\n",
       " 'oh',\n",
       " 'So',\n",
       " 'you',\n",
       " 'can',\n",
       " 'hurt',\n",
       " 'hurt',\n",
       " 'me',\n",
       " 'bad',\n",
       " 'But',\n",
       " 'still',\n",
       " 'I',\n",
       " 'raise',\n",
       " 'the',\n",
       " 'flag',\n",
       " 'Oh',\n",
       " 'It',\n",
       " 'was',\n",
       " 'a',\n",
       " 'wa',\n",
       " 'wa',\n",
       " 'wa',\n",
       " 'wa',\n",
       " 'A',\n",
       " 'wa',\n",
       " 'wa',\n",
       " 'wa',\n",
       " 'wa',\n",
       " 'Every',\n",
       " 'tear',\n",
       " 'Every',\n",
       " 'tear',\n",
       " 'Every',\n",
       " 'teardrop',\n",
       " 'is',\n",
       " 'a',\n",
       " 'waterfall',\n",
       " 'Every',\n",
       " 'tear',\n",
       " 'Every',\n",
       " 'tear',\n",
       " 'Every',\n",
       " 'teardrop',\n",
       " 'is',\n",
       " 'a',\n",
       " 'waterfall',\n",
       " 'Every',\n",
       " 'tear',\n",
       " 'Every',\n",
       " 'tear',\n",
       " 'Every',\n",
       " 'teardrop',\n",
       " 'is',\n",
       " 'a',\n",
       " 'waterfall']"
      ]
     },
     "execution_count": 13,
     "metadata": {},
     "output_type": "execute_result"
    }
   ],
   "source": [
    "# TODO: Remove the punctuation, then save the result into a variable and print it\n",
    "import pandas as pd\n",
    "import nltk\n",
    "import string\n",
    "\n",
    "# Load the dataset\n",
    "data = pd.read_csv('coldplay.csv')\n",
    "\n",
    "# Select the row with the song 'Every Teardrop Is A Waterfall'\n",
    "song = data.loc[data['song'] == 'Every Teardrop Is A Waterfall']\n",
    "\n",
    "# Tokenize the lyrics of the song\n",
    "lyrics = song['lyrics'].iloc[0]   # Get the lyrics as a string\n",
    "tokens = nltk.word_tokenize(lyrics)   # Tokenize the lyrics\n",
    "\n",
    "# Remove punctuation from the tokens\n",
    "no_punct = [token for token in tokens if token not in string.punctuation]\n",
    "\n",
    "# Print the tokens without punctuation\n",
    "print(no_punct)"
   ]
  },
  {
   "cell_type": "markdown",
   "metadata": {},
   "source": [
    "We will now remove the stop words."
   ]
  },
  {
   "cell_type": "code",
   "execution_count": 15,
   "metadata": {
    "tags": []
   },
   "outputs": [
    {
     "name": "stdout",
     "output_type": "stream",
     "text": [
      "['turn', 'music', ',', 'got', 'records', 'shut', 'world', 'outside', 'lights', 'come', 'Maybe', 'streets', 'alight', ',', 'maybe', 'trees', 'gone', 'feel', 'heart', 'start', 'beating', 'favourite', 'song', 'kids', 'dance', ',', 'kids', 'night', 'Monday', 'morning', 'feels', 'another', 'life', 'turn', 'music', \"'m\", 'roll', 'time', 'heaven', 'sight', 'turn', 'music', ',', 'got', 'records', 'underneath', 'rubble', 'sing', 'rebel', 'song', \"n't\", 'want', 'see', 'another', 'generation', 'drop', \"'d\", 'rather', 'comma', 'full', 'stop', 'Maybe', \"'m\", 'black', ',', 'maybe', \"'m\", 'knees', 'Maybe', \"'m\", 'gap', 'two', 'trapezes', 'heart', 'beating', 'pulses', 'start', 'Cathedrals', 'heart', 'saw', 'oh', 'light', 'swear', ',', 'emerge', 'blinking', 'tell', \"'s\", 'alright', 'soar', 'walls', ',', 'every', 'siren', 'symphony', 'every', 'tear', \"'s\", 'waterfall', 'waterfall', 'Oh', 'waterfall', 'Oh', 'oh', 'oh', 'waterfall', 'Every', 'tear', 'waterfall', 'Oh', 'oh', 'oh', 'hurt', ',', 'hurt', 'bad', 'still', \"'ll\", 'raise', 'flag', 'Oh', 'wa', 'wa', 'wa', 'wa', 'wa-aterfall', 'wa', 'wa', 'wa', 'wa', 'wa-aterfall', 'Every', 'tear', 'Every', 'tear', 'Every', 'teardrop', 'waterfall', 'Every', 'tear', 'Every', 'tear', 'Every', 'teardrop', 'waterfall', 'Every', 'tear', 'Every', 'tear', 'Every', 'teardrop', 'waterfall']\n"
     ]
    }
   ],
   "source": [
    "# TODO: remove the stop words using NLTK. Then put the result into a variable and print it\n",
    "from nltk.corpus import stopwords\n",
    "\n",
    "# TODO: Tokenize the lyrics of the song\n",
    "lyrics = song['Lyrics'].iloc[0]   # Get the lyrics as a string\n",
    "tokens = nltk.word_tokenize(lyrics)   # Tokenize the lyrics\n",
    "\n",
    "# TODO: Remove stop words\n",
    "stop_words = set(stopwords.words('english'))\n",
    "filtered_tokens = [word for word in tokens if word.casefold() not in stop_words]\n",
    "\n",
    "# Print the filtered tokens\n",
    "print(filtered_tokens)"
   ]
  },
  {
   "cell_type": "markdown",
   "metadata": {},
   "source": [
    "Okay we begin to have much less words in our song, right?\n",
    "\n",
    "Next step is lemmatization. But we had an issue in the lectures, you remember? Let's learn how to do it properly now.\n",
    "\n",
    "First let's try to do it naively. Import the WordNetLemmatizer and perform lemmatization with default options."
   ]
  },
  {
   "cell_type": "code",
   "execution_count": 16,
   "metadata": {
    "tags": []
   },
   "outputs": [
    {
     "name": "stdout",
     "output_type": "stream",
     "text": [
      "['turn', 'music', ',', 'got', 'record', 'shut', 'world', 'outside', 'light', 'come', 'Maybe', 'street', 'alight', ',', 'maybe', 'tree', 'gone', 'feel', 'heart', 'start', 'beating', 'favourite', 'song', 'kid', 'dance', ',', 'kid', 'night', 'Monday', 'morning', 'feel', 'another', 'life', 'turn', 'music', \"'m\", 'roll', 'time', 'heaven', 'sight', 'turn', 'music', ',', 'got', 'record', 'underneath', 'rubble', 'sing', 'rebel', 'song', \"n't\", 'want', 'see', 'another', 'generation', 'drop', \"'d\", 'rather', 'comma', 'full', 'stop', 'Maybe', \"'m\", 'black', ',', 'maybe', \"'m\", 'knee', 'Maybe', \"'m\", 'gap', 'two', 'trapeze', 'heart', 'beating', 'pulse', 'start', 'Cathedrals', 'heart', 'saw', 'oh', 'light', 'swear', ',', 'emerge', 'blinking', 'tell', \"'s\", 'alright', 'soar', 'wall', ',', 'every', 'siren', 'symphony', 'every', 'tear', \"'s\", 'waterfall', 'waterfall', 'Oh', 'waterfall', 'Oh', 'oh', 'oh', 'waterfall', 'Every', 'tear', 'waterfall', 'Oh', 'oh', 'oh', 'hurt', ',', 'hurt', 'bad', 'still', \"'ll\", 'raise', 'flag', 'Oh', 'wa', 'wa', 'wa', 'wa', 'wa-aterfall', 'wa', 'wa', 'wa', 'wa', 'wa-aterfall', 'Every', 'tear', 'Every', 'tear', 'Every', 'teardrop', 'waterfall', 'Every', 'tear', 'Every', 'tear', 'Every', 'teardrop', 'waterfall', 'Every', 'tear', 'Every', 'tear', 'Every', 'teardrop', 'waterfall']\n"
     ]
    }
   ],
   "source": [
    "# TODO: Perform lemmatization using WordNetLemmatizer on our tokens\n",
    "from nltk.stem import WordNetLemmatizer\n",
    "\n",
    "# TODO: Tokenize the lyrics of the song\n",
    "lyrics = song['Lyrics'].iloc[0]   # Get the lyrics as a string\n",
    "tokens = nltk.word_tokenize(lyrics)   # Tokenize the lyrics\n",
    "\n",
    "# TODO: Remove stop words\n",
    "stop_words = set(stopwords.words('english'))\n",
    "filtered_tokens = [word for word in tokens if word.casefold() not in stop_words]\n",
    "\n",
    "# TODO: Lemmatize the filtered tokens\n",
    "lemmatizer = WordNetLemmatizer()\n",
    "lemmatized_tokens = [lemmatizer.lemmatize(word) for word in filtered_tokens]\n",
    "\n",
    "# Print the lemmatized tokens\n",
    "print(lemmatized_tokens)\n"
   ]
  },
  {
   "cell_type": "markdown",
   "metadata": {},
   "source": [
    "As you can see, it worked well on nouns (plural words are now singular for example).\n",
    "\n",
    "But verbs are not OK: we would 'is' to become 'be' for example.\n",
    "\n",
    "To do that, we need to do POS-tagging. So let's do this now."
   ]
  },
  {
   "cell_type": "markdown",
   "metadata": {},
   "source": [
    "POS-tagging means Part of speech tagging: basically it will classify words into categories: like verbs, nouns, advers and so on...\n",
    "\n",
    "In order to do that, we will use NLTK and the function *pos_tag*. You have to do it on the step before lemmatization, so use your variable containing all the tokens without punctuation and without stop words.\n",
    "\n",
    "Hint: you can check on the internet how the *pos_tag* function works [here](https://www.nltk.org/book/ch05.html)"
   ]
  },
  {
   "cell_type": "code",
   "execution_count": 17,
   "metadata": {
    "tags": []
   },
   "outputs": [
    {
     "name": "stdout",
     "output_type": "stream",
     "text": [
      "[('turn', 'NN'), ('music', 'NN'), (',', ','), ('got', 'VBD'), ('record', 'NN'), ('shut', 'NN'), ('world', 'NN'), ('outside', 'IN'), ('light', 'JJ'), ('come', 'VBP'), ('Maybe', 'NNP'), ('street', 'NN'), ('alight', 'NN'), (',', ','), ('maybe', 'RB'), ('tree', 'VBP'), ('gone', 'VBN'), ('feel', 'JJ'), ('heart', 'NN'), ('start', 'NN'), ('beating', 'VBG'), ('favourite', 'NN'), ('song', 'NN'), ('kid', 'NN'), ('dance', 'NN'), (',', ','), ('kid', 'VB'), ('night', 'NN'), ('Monday', 'NNP'), ('morning', 'NN'), ('feel', 'NN'), ('another', 'DT'), ('life', 'NN'), ('turn', 'NN'), ('music', 'NN'), (\"'m\", 'VBP'), ('roll', 'JJ'), ('time', 'NN'), ('heaven', 'VBN'), ('sight', 'JJ'), ('turn', 'NN'), ('music', 'NN'), (',', ','), ('got', 'VBD'), ('record', 'JJ'), ('underneath', 'NN'), ('rubble', 'JJ'), ('sing', 'VBG'), ('rebel', 'NN'), ('song', 'VBP'), (\"n't\", 'RB'), ('want', 'VB'), ('see', 'VB'), ('another', 'DT'), ('generation', 'NN'), ('drop', 'NN'), (\"'d\", 'MD'), ('rather', 'RB'), ('comma', 'VB'), ('full', 'JJ'), ('stop', 'NN'), ('Maybe', 'NNP'), (\"'m\", 'VBP'), ('black', 'JJ'), (',', ','), ('maybe', 'RB'), (\"'m\", 'VBP'), ('knee', 'JJ'), ('Maybe', 'NNP'), (\"'m\", 'VBP'), ('gap', 'JJ'), ('two', 'CD'), ('trapeze', 'JJ'), ('heart', 'NN'), ('beating', 'VBG'), ('pulse', 'JJ'), ('start', 'NN'), ('Cathedrals', 'NNP'), ('heart', 'NN'), ('saw', 'VBD'), ('oh', 'JJ'), ('light', 'JJ'), ('swear', 'NN'), (',', ','), ('emerge', 'VB'), ('blinking', 'VBG'), ('tell', 'NN'), (\"'s\", 'POS'), ('alright', 'NN'), ('soar', 'VB'), ('wall', 'NN'), (',', ','), ('every', 'DT'), ('siren', 'NN'), ('symphony', 'NN'), ('every', 'DT'), ('tear', 'NN'), (\"'s\", 'POS'), ('waterfall', 'NN'), ('waterfall', 'NN'), ('Oh', 'NNP'), ('waterfall', 'NN'), ('Oh', 'NNP'), ('oh', 'VBZ'), ('oh', 'UH'), ('waterfall', 'NN'), ('Every', 'NNP'), ('tear', 'NN'), ('waterfall', 'NN'), ('Oh', 'NNP'), ('oh', 'VBZ'), ('oh', 'JJ'), ('hurt', 'NN'), (',', ','), ('hurt', 'NN'), ('bad', 'JJ'), ('still', 'RB'), (\"'ll\", 'MD'), ('raise', 'VB'), ('flag', 'NN'), ('Oh', 'NNP'), ('wa', 'NN'), ('wa', 'NN'), ('wa', 'NN'), ('wa', 'VBD'), ('wa-aterfall', 'JJ'), ('wa', 'NN'), ('wa', 'NN'), ('wa', 'NN'), ('wa', 'VBD'), ('wa-aterfall', 'JJ'), ('Every', 'NNP'), ('tear', 'NN'), ('Every', 'NNP'), ('tear', 'NN'), ('Every', 'NNP'), ('teardrop', 'NN'), ('waterfall', 'NN'), ('Every', 'NNP'), ('tear', 'NN'), ('Every', 'NNP'), ('tear', 'NN'), ('Every', 'NNP'), ('teardrop', 'NN'), ('waterfall', 'NN'), ('Every', 'NNP'), ('tear', 'NN'), ('Every', 'NNP'), ('tear', 'NN'), ('Every', 'NNP'), ('teardrop', 'NN'), ('waterfall', 'NN')]\n"
     ]
    }
   ],
   "source": [
    "# TODO: use the function pos_tag of NLTK to perform POS-tagging and print the result\n",
    "from nltk import pos_tag\n",
    "\n",
    "# TODO: Tokenize the lyrics of the song\n",
    "lyrics = song['Lyrics'].iloc[0]   # Get the lyrics as a string\n",
    "tokens = nltk.word_tokenize(lyrics)   # Tokenize the lyrics\n",
    "\n",
    "# TODO: Remove stop words\n",
    "stop_words = set(stopwords.words('english'))\n",
    "filtered_tokens = [word for word in tokens if word.casefold() not in stop_words]\n",
    "\n",
    "# TODO: Lemmatize the filtered tokens\n",
    "lemmatizer = WordNetLemmatizer()\n",
    "lemmatized_tokens = [lemmatizer.lemmatize(word) for word in filtered_tokens]\n",
    "\n",
    "# TODO: Perform POS-tagging on the lemmatized tokens\n",
    "pos_tags = pos_tag(lemmatized_tokens)\n",
    "\n",
    "# Print the POS-tagged tokens\n",
    "print(pos_tags)\n"
   ]
  },
  {
   "cell_type": "markdown",
   "metadata": {},
   "source": [
    "As you can see, it does not return values like 'a', 'n', 'v' or 'r' as the WordNet lemmatizer is expecting...\n",
    "\n",
    "So we have to convert the values from the NLTK POS-tagging to put them into the WordNet Lemmatizer. This is done in the function *get_wordnet_pos* written below. Try to understand it, and then we will reuse it."
   ]
  },
  {
   "cell_type": "code",
   "execution_count": 24,
   "metadata": {},
   "outputs": [],
   "source": [
    "from nltk.corpus import wordnet\n",
    "\n",
    "def get_wordnet_pos(pos_tag):\n",
    "    output = np.asarray(pos_tag)\n",
    "    for i in range(len(pos_tag)):\n",
    "        if pos_tag[i][1].startswith('J'):\n",
    "            output[i][1] = wordnet.ADJ\n",
    "        elif pos_tag[i][1].startswith('V'):\n",
    "            output[i][1] = wordnet.VERB\n",
    "        elif pos_tag[i][1].startswith('R'):\n",
    "            output[i][1] = wordnet.ADV\n",
    "        else:\n",
    "            output[i][1] = wordnet.NOUN\n",
    "    return output"
   ]
  },
  {
   "cell_type": "markdown",
   "metadata": {},
   "source": [
    "So now you have all we need to perform properly the lemmatization.\n",
    "\n",
    "So you have to use the following to do so:\n",
    "* your tags from the POS-tagging performed\n",
    "* the function *get_wordnet_pos*\n",
    "* the *WordNetLemmatizer*"
   ]
  },
  {
   "cell_type": "code",
   "execution_count": 18,
   "metadata": {
    "scrolled": true,
    "tags": []
   },
   "outputs": [
    {
     "name": "stdout",
     "output_type": "stream",
     "text": [
      "['turn', 'music', ',', 'get', 'record', 'shut', 'world', 'outside', 'light', 'come', 'Maybe', 'street', 'alight', ',', 'maybe', 'tree', 'go', 'feel', 'heart', 'start', 'beating', 'favourite', 'song', 'kid', 'dance', ',', 'kid', 'night', 'Monday', 'morning', 'feel', 'another', 'life', 'turn', 'music', \"'m\", 'roll', 'time', 'heaven', 'sight', 'turn', 'music', ',', 'get', 'record', 'underneath', 'rubble', 'sing', 'rebel', 'song', \"n't\", 'want', 'see', 'another', 'generation', 'drop', \"'d\", 'rather', 'comma', 'full', 'stop', 'Maybe', \"'m\", 'black', ',', 'maybe', \"'m\", 'knee', 'Maybe', \"'m\", 'gap', 'two', 'trapeze', 'heart', 'beating', 'pulse', 'start', 'Cathedrals', 'heart', 'saw', 'oh', 'light', 'swear', ',', 'emerge', 'blinking', 'tell', \"'s\", 'alright', 'soar', 'wall', ',', 'every', 'siren', 'symphony', 'every', 'tear', \"'s\", 'waterfall', 'waterfall', 'Oh', 'waterfall', 'Oh', 'oh', 'oh', 'waterfall', 'Every', 'tear', 'waterfall', 'Oh', 'oh', 'oh', 'hurt', ',', 'hurt', 'bad', 'still', \"'ll\", 'raise', 'flag', 'Oh', 'wa', 'wa', 'wa', 'wa', 'wa-aterfall', 'wa', 'wa', 'wa', 'wa', 'wa-aterfall', 'Every', 'tear', 'Every', 'tear', 'Every', 'teardrop', 'waterfall', 'Every', 'tear', 'Every', 'tear', 'Every', 'teardrop', 'waterfall', 'Every', 'tear', 'Every', 'tear', 'Every', 'teardrop', 'waterfall']\n"
     ]
    }
   ],
   "source": [
    "# TODO: Perform the lemmatization properly\n",
    "from nltk.stem import WordNetLemmatizer\n",
    "from nltk.corpus import wordnet\n",
    "\n",
    "# TODO: Tokenize the lyrics of the song\n",
    "lyrics = song['Lyrics'].iloc[0]   # Get the lyrics as a string\n",
    "tokens = nltk.word_tokenize(lyrics)   # Tokenize the lyrics\n",
    "\n",
    "# TODO: Remove stop words\n",
    "stop_words = set(stopwords.words('english'))\n",
    "filtered_tokens = [word for word in tokens if word.casefold() not in stop_words]\n",
    "\n",
    "# TODO: Perform lemmatization on the filtered tokens\n",
    "lemmatizer = WordNetLemmatizer()\n",
    "lemmatized_tokens = []\n",
    "for token in filtered_tokens:\n",
    "    pos = nltk.pos_tag([token])[0][1][0].lower()  # Get the part of speech for WordNetLemmatizer\n",
    "    if pos not in ['a', 'r', 'n', 'v']:  # If the part of speech is not recognized, consider it as a noun\n",
    "        pos = 'n'\n",
    "    wn_pos = {'a': wordnet.ADJ, 'r': wordnet.ADV, 'n': wordnet.NOUN, 'v': wordnet.VERB}[pos]\n",
    "    lemma = lemmatizer.lemmatize(token, pos=wn_pos)\n",
    "    lemmatized_tokens.append(lemma)\n",
    "\n",
    "# Print the lemmatized tokens\n",
    "print(lemmatized_tokens)\n"
   ]
  },
  {
   "cell_type": "markdown",
   "metadata": {},
   "source": [
    "What do you think?\n",
    "\n",
    "Still not perfect, but it's the best we can do for now."
   ]
  },
  {
   "cell_type": "markdown",
   "metadata": {},
   "source": [
    "Now you can try stemming, with the help of the lecture, and see the differences compared to the lemmatization"
   ]
  },
  {
   "cell_type": "code",
   "execution_count": 19,
   "metadata": {
    "tags": []
   },
   "outputs": [
    {
     "name": "stdout",
     "output_type": "stream",
     "text": [
      "['turn', 'music', ',', 'get', 'record', 'shut', 'world', 'outsid', 'light', 'come', 'mayb', 'street', 'alight', ',', 'mayb', 'tree', 'go', 'feel', 'heart', 'start', 'beat', 'favourit', 'song', 'kid', 'danc', ',', 'kid', 'night', 'monday', 'morn', 'feel', 'anoth', 'life', 'turn', 'music', \"'m\", 'roll', 'time', 'heaven', 'sight', 'turn', 'music', ',', 'get', 'record', 'underneath', 'rubbl', 'sing', 'rebel', 'song', \"n't\", 'want', 'see', 'anoth', 'gener', 'drop', \"'d\", 'rather', 'comma', 'full', 'stop', 'mayb', \"'m\", 'black', ',', 'mayb', \"'m\", 'knee', 'mayb', \"'m\", 'gap', 'two', 'trapez', 'heart', 'beat', 'puls', 'start', 'cathedr', 'heart', 'saw', 'oh', 'light', 'swear', ',', 'emerg', 'blink', 'tell', \"'s\", 'alright', 'soar', 'wall', ',', 'everi', 'siren', 'symphoni', 'everi', 'tear', \"'s\", 'waterfal', 'waterfal', 'oh', 'waterfal', 'oh', 'oh', 'oh', 'waterfal', 'everi', 'tear', 'waterfal', 'oh', 'oh', 'oh', 'hurt', ',', 'hurt', 'bad', 'still', \"'ll\", 'rais', 'flag', 'oh', 'wa', 'wa', 'wa', 'wa', 'wa-aterfal', 'wa', 'wa', 'wa', 'wa', 'wa-aterfal', 'everi', 'tear', 'everi', 'tear', 'everi', 'teardrop', 'waterfal', 'everi', 'tear', 'everi', 'tear', 'everi', 'teardrop', 'waterfal', 'everi', 'tear', 'everi', 'tear', 'everi', 'teardrop', 'waterfal']\n"
     ]
    }
   ],
   "source": [
    "# TODO: Perform stemming\n",
    "from nltk.stem import PorterStemmer\n",
    "\n",
    "# Create an instance of the PorterStemmer class\n",
    "porter = PorterStemmer()\n",
    "\n",
    "# Perform stemming on the lemmatized tokens\n",
    "stemmed_tokens = [porter.stem(token) for token in lemmatized_tokens]\n",
    "\n",
    "# Print the stemmed tokens\n",
    "print(stemmed_tokens)\n"
   ]
  },
  {
   "cell_type": "markdown",
   "metadata": {},
   "source": [
    "Do you see the difference? What would you use?"
   ]
  }
 ],
 "metadata": {
  "kernelspec": {
   "display_name": "Python 3 (ipykernel)",
   "language": "python",
   "name": "python3"
  },
  "language_info": {
   "codemirror_mode": {
    "name": "ipython",
    "version": 3
   },
   "file_extension": ".py",
   "mimetype": "text/x-python",
   "name": "python",
   "nbconvert_exporter": "python",
   "pygments_lexer": "ipython3",
   "version": "3.11.2"
  },
  "toc": {
   "base_numbering": 1,
   "nav_menu": {},
   "number_sections": true,
   "sideBar": true,
   "skip_h1_title": false,
   "title_cell": "Table of Contents",
   "title_sidebar": "Contents",
   "toc_cell": false,
   "toc_position": {},
   "toc_section_display": true,
   "toc_window_display": false
  }
 },
 "nbformat": 4,
 "nbformat_minor": 4
}
